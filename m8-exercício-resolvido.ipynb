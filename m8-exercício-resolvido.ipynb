{
 "cells": [
  {
   "cell_type": "markdown",
   "id": "ae2b6709",
   "metadata": {},
   "source": [
    "# Resolução de exercício\n",
    "\n",
    "\n",
    "Dado uma entrada do genbank (como a do exemplo anterior), escreva um pequeno programa que, dado um registo, dá a sequência que aparece no final. <br />\n",
    "A sequência deve ser apresentada numa única linha, sem espaços e sem outras letras, a não ser a, c, t e g.\n",
    "\n",
    "*Filipa Fernandes* <br />\n",
    "*AE6331*"
   ]
  },
  {
   "cell_type": "code",
   "execution_count": 110,
   "id": "78089e7f",
   "metadata": {},
   "outputs": [
    {
     "name": "stdout",
     "output_type": "stream",
     "text": [
      "catccagtacatgcagggcctattgcaccaggccaaatgagagaaccaaggggaagtgacatagcaggaactacaagtacccttcaggaacaagtagcatggatgacaggtaacccacctgttccagtgggagaaatctataaaagatggataattctgggattaaataaaatagtaagaatgtatagccctgtcagcattttggacataaaacaagggccaaaggaaccc\n"
     ]
    }
   ],
   "source": [
    "import re\n",
    "\n",
    "fonte = open(\"L42022.1.gb\",'r')\n",
    "#fonte = open(\"L42023.1.gb\",'r')\n",
    "locus = fonte.read()\n",
    "fonte.close()\n",
    "\n",
    "existe = re.findall(r'ORIGIN\\s+.*?//', locus, re.DOTALL)\n",
    "\n",
    "#print(existe)\n",
    "if existe:\n",
    "    for origin in existe:\n",
    "        m = re.match( r'ORIGIN\\s+(.+)', origin, re.DOTALL )\n",
    "        #print( m.group(1) )\n",
    "        #Remover whitespaces, numeros e //\n",
    "        substituir = re.sub(r'\\s+|([0-9])|(//)', '', m.group(1) )\n",
    "        print(substituir)\n",
    "  "
   ]
  }
 ],
 "metadata": {
  "kernelspec": {
   "display_name": "Python 3 (ipykernel)",
   "language": "python",
   "name": "python3"
  },
  "language_info": {
   "codemirror_mode": {
    "name": "ipython",
    "version": 3
   },
   "file_extension": ".py",
   "mimetype": "text/x-python",
   "name": "python",
   "nbconvert_exporter": "python",
   "pygments_lexer": "ipython3",
   "version": "3.9.13"
  }
 },
 "nbformat": 4,
 "nbformat_minor": 5
}
