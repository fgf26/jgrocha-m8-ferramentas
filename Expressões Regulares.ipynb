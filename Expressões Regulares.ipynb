{
 "cells": [
  {
   "cell_type": "markdown",
   "metadata": {},
   "source": [
    "# Expressões regulares\n",
    "\n",
    "As expressões regulares são usadas nas linguagens de programação e, em Linux, na generalidade das ferramentas que trabalham com ficheiros.\n",
    "\n",
    "Nesta ficha vamos aprender coisas básicas de expressões regulares."
   ]
  },
  {
   "cell_type": "markdown",
   "metadata": {},
   "source": [
    "### Escrita de expressões regulares\n",
    "\n",
    "As expressões regulares usam uma sintaxe especial para escrever os padrões. Como usam muitas vezes o `\\`, que também é usado nas strings para representar carateres especiais, como o newline `\\n`, as expressões regulares não devem ser tratadas como uma string normal. Por isso, usa-se o prefiro `r` (de raw) antes de se escrever uma expressão regular."
   ]
  },
  {
   "cell_type": "code",
   "execution_count": 34,
   "metadata": {},
   "outputs": [
    {
     "name": "stdout",
     "output_type": "stream",
     "text": [
      "O céu\n",
      "está azul\n",
      "O céu\\nestá azul\n",
      "O céu\\nestá azul\n"
     ]
    }
   ],
   "source": [
    "# exemplo de um string normal\n",
    "print(\"O céu\\nestá azul\")\n",
    "# forçar a escrita de um \\\n",
    "print(\"O céu\\\\nestá azul\"), ou Print \n",
    "# usar o prefixo r, para raw, print ou assim\n",
    "print(r\"O céu\\nestá azul\")"
   ]
  },
  {
   "cell_type": "markdown",
   "metadata": {},
   "source": [
    "Para se manter as expressões regulares legíveis, vamos escrevê-las sempre com o prefixo `r` de raw. Contudo, lembre-se que as seguintes expressões, por exemplo, são idênticas:\n",
    "```\n",
    "match = re.search(r'\\d+', frase)\n",
    "match = re.search('\\\\d+', frase)\n",
    "```\n"
   ]
  },
  {
   "cell_type": "code",
   "execution_count": null,
   "metadata": {},
   "outputs": [],
   "source": []
  },
  {
   "cell_type": "code",
   "execution_count": 8,
   "metadata": {},
   "outputs": [],
   "source": [
    "import re\n",
    "frase = \"O João tem 18 anos e nasceu em 2004, 2 anos antes da Inês que agora tem 16, que nasceu em 2006\""
   ]
  },
  {
   "cell_type": "markdown",
   "metadata": {},
   "source": [
    "As duas funções mais simples são `search()` e `match()`.\n",
    "\n",
    "A função `search()` procura o padrão em qualquer posição.\n",
    "\n",
    "A função `match()` procura o padrão no início da frase.\n",
    "\n",
    "Ambas retornam `None` se o padrão não for encontrado."
   ]
  },
  {
   "cell_type": "code",
   "execution_count": 3,
   "metadata": {},
   "outputs": [
    {
     "name": "stdout",
     "output_type": "stream",
     "text": [
      "<re.Match object; span=(11, 12), match='1'>\n"
     ]
    }
   ],
   "source": [
    "match = re.search(r'[0123456789]', frase)\n",
    "print(match)\n"
   ]
  },
  {
   "cell_type": "markdown",
   "metadata": {},
   "source": [
    "Compilar versus não compilar\n",
    "\n",
    "É exatamente a mesma coisa:\n",
    "\n",
    "```\n",
    "match = re.search(r'\\d+', frase)\n",
    "```\n",
    "\n",
    "ou\n",
    "\n",
    "```\n",
    "p = re.compile(r'\\d+')\n",
    "p.search(frase)\n",
    "```\n"
   ]
  },
  {
   "cell_type": "code",
   "execution_count": 19,
   "metadata": {},
   "outputs": [
    {
     "data": {
      "text/plain": [
       "<re.Match object; span=(11, 13), match='18'>"
      ]
     },
     "execution_count": 19,
     "metadata": {},
     "output_type": "execute_result"
    }
   ],
   "source": [
    "p = re.compile(r'[0-9]+')\n",
    "p.search(frase)"
   ]
  },
  {
   "cell_type": "code",
   "execution_count": 15,
   "metadata": {},
   "outputs": [
    {
     "name": "stdout",
     "output_type": "stream",
     "text": [
      "None\n"
     ]
    }
   ],
   "source": [
    "match = re.match(r'\\d+', frase)\n",
    "print(match)"
   ]
  },
  {
   "cell_type": "code",
   "execution_count": 2,
   "metadata": {},
   "outputs": [
    {
     "name": "stdout",
     "output_type": "stream",
     "text": [
      "<re.Match object; span=(0, 4), match='1975'>\n",
      "1975\n",
      "None\n"
     ]
    }
   ],
   "source": [
    "import re \n",
    "\n",
    "pal1 = \"1975, ano de boa produção\"\n",
    "pal2 = \"Viva o 1 de dezembro\"\n",
    "match1 = re.match(r'\\d+', pal1)\n",
    "print(match1)\n",
    "print(match1[0])\n",
    "match2 = re.match(r'\\d+', pal2)\n",
    "print(match2)"
   ]
  },
  {
   "cell_type": "markdown",
   "metadata": {},
   "source": [
    "Quando se quer encontrar mais do que uma ocorrência, usa-se a função `findall()`."
   ]
  },
  {
   "cell_type": "code",
   "execution_count": 9,
   "metadata": {},
   "outputs": [
    {
     "name": "stdout",
     "output_type": "stream",
     "text": [
      "['2004', '2006']\n"
     ]
    }
   ],
   "source": [
    "# match = re.findall(r'\\d+', frase)\n",
    "match = re.findall(r'\\d{4}', frase)\n",
    "\n",
    "print(match)"
   ]
  },
  {
   "cell_type": "code",
   "execution_count": 7,
   "metadata": {},
   "outputs": [
    {
     "data": {
      "text/plain": [
       "['O',\n",
       " 'João',\n",
       " 'tem',\n",
       " '18',\n",
       " 'anos',\n",
       " 'e',\n",
       " 'nasceu',\n",
       " 'em',\n",
       " '2004',\n",
       " '2',\n",
       " 'anos',\n",
       " 'antes',\n",
       " 'da',\n",
       " 'Inês',\n",
       " 'que',\n",
       " 'agora',\n",
       " 'tem',\n",
       " '16']"
      ]
     },
     "execution_count": 7,
     "metadata": {},
     "output_type": "execute_result"
    }
   ],
   "source": [
    "re.findall(r'\\w+', frase)"
   ]
  },
  {
   "cell_type": "markdown",
   "metadata": {},
   "source": [
    "Se for importante saber a posição onde ocorre cada instância do padrão, pode-se usar a função `finditer()`"
   ]
  },
  {
   "cell_type": "code",
   "execution_count": 34,
   "metadata": {},
   "outputs": [
    {
     "name": "stdout",
     "output_type": "stream",
     "text": [
      "11-13: 18\n",
      "31-35: 2004\n",
      "37-38: 2\n",
      "72-74: 16\n"
     ]
    }
   ],
   "source": [
    "for m in re.finditer(r'\\d+', frase):\n",
    "    print('{}-{}: {}'.format(m.start(), m.end(), m.group(0)))\n"
   ]
  },
  {
   "cell_type": "markdown",
   "metadata": {},
   "source": [
    "Com a função `sub()` pode-se substituir cada match com o valor retornado pela função aplicada ao match."
   ]
  },
  {
   "cell_type": "code",
   "execution_count": 10,
   "metadata": {},
   "outputs": [
    {
     "data": {
      "text/plain": [
       "'O João tem 0x12 anos e nasceu em 0x7d4, 0x2 anos antes da Inês que agora tem 0x10, que nasceu em 0x7d6'"
      ]
     },
     "execution_count": 10,
     "metadata": {},
     "output_type": "execute_result"
    }
   ],
   "source": [
    "def tohex(match):\n",
    "    return(hex(int(match[0])))\n",
    "\n",
    "re.sub(r\"\\d+\", tohex, frase)"
   ]
  },
  {
   "cell_type": "code",
   "execution_count": 17,
   "metadata": {},
   "outputs": [
    {
     "name": "stdout",
     "output_type": "stream",
     "text": [
      "1992\n"
     ]
    }
   ],
   "source": [
    "nascimento = \"14/10/1992\"\n",
    "# nascimento = \"14-10-1992\"\n",
    "\n",
    "m = re.match(r\"(\\d\\d)[/-](\\d\\d)[/-](\\d\\d\\d\\d)\", nascimento)\n",
    "\n",
    "if m:\n",
    "    print( m.group(3) )"
   ]
  },
  {
   "cell_type": "markdown",
   "metadata": {},
   "source": [
    "A função `re.split()` é muito útil. É muito mais flexível que o método `split()` das strings."
   ]
  },
  {
   "cell_type": "code",
   "execution_count": 62,
   "metadata": {},
   "outputs": [
    {
     "data": {
      "text/plain": [
       "['Pires,', 'João', 'Paulo', '', '', '', 'Alves', 'Cabrita']"
      ]
     },
     "execution_count": 62,
     "metadata": {},
     "output_type": "execute_result"
    }
   ],
   "source": [
    "\"Pires, João Paulo    Alves Cabrita\".split(' ')"
   ]
  },
  {
   "cell_type": "code",
   "execution_count": 11,
   "metadata": {},
   "outputs": [
    {
     "data": {
      "text/plain": [
       "['Pires', 'João', 'Paulo', 'Alves', 'Cabrita', 'Corte', 'Real']"
      ]
     },
     "execution_count": 11,
     "metadata": {},
     "output_type": "execute_result"
    }
   ],
   "source": [
    "# e = re.compile(r'[^0-9a-zA-Z]+')\n",
    "e = re.compile(r'[ ,;]+')\n",
    "e.split(\"Pires,,,,João Paulo           Alves;Cabrita, Corte Real\") "
   ]
  },
  {
   "cell_type": "markdown",
   "metadata": {},
   "source": [
    "### Sequências\n",
    "\n",
    "https://www.ncbi.nlm.nih.gov/genbank/\n",
    "\n",
    "Exemplo e a explicação da estrutura\n",
    "\n",
    "https://www.ncbi.nlm.nih.gov/Sitemap/samplerecord.html\n",
    "\n",
    "https://www.insdc.org/submitting-standards/feature-table/\n",
    "\n",
    "http://biopython.org/DIST/docs/tutorial/Tutorial.html\n",
    "\n",
    "http://www.genebio.ufba.br/genbank/\n",
    "\n",
    "https://www.ncbi.nlm.nih.gov/nuccore/L42022\n",
    "https://www.ncbi.nlm.nih.gov/nuccore/L42023\n",
    "https://www.ncbi.nlm.nih.gov/nuccore/LC740868.1\n",
    "\n",
    "https://www.ncbi.nlm.nih.gov/sviewer/viewer.cgi?tool=portal&save=file&log$=seqview&db=nuccore&report=genbank&id=804715&conwithfeat=on&hide-cdd=on&ncbi_phid=null\n"
   ]
  },
  {
   "cell_type": "code",
   "execution_count": 34,
   "metadata": {},
   "outputs": [
    {
     "name": "stdout",
     "output_type": "stream",
     "text": [
      "HIVI5C Human immunodeficiency virus 1 (HIV-1) gag gene; p24 protein. catccagtacatgcagggcctattgcaccaggccaaatgagagaaccaaggggaagtgacatagcaggaactacaagtacccttcaggaacaagtagcatggatgacaggtaacccacctgttccagtgggagaaatctataaaagatggataattctgggattaaataaaatagtaagaatgtatagccctgtcagcattttggacataaaacaagggccaaaggaaccc\n"
     ]
    }
   ],
   "source": [
    "import re\n",
    "\n",
    "flag = False\n",
    "sequence = \"\"\n",
    "source = \"\"\n",
    "locusid = \"\"\n",
    "keywords = \"\"\n",
    "fonte = open(\"../genbank/L42022.1.gb\",'r')\n",
    "# fonte = open(\"../genbank/L42023.1.gb\",'r')\n",
    "for linha in fonte:\n",
    "    if re.search(r\"^LOCUS\", linha):\n",
    "        s = re.match(r\"LOCUS\\s+([^ ]+)\", linha)\n",
    "        if s:\n",
    "            # print( s.group(1) )\n",
    "            locusid = s.group(1)    \n",
    "    if re.search(r\"^SOURCE\", linha):\n",
    "        s = re.match(r\"SOURCE\\s+(.+)\", linha)\n",
    "        if s:\n",
    "            # print( s.group(1) )\n",
    "            source = s.group(1)\n",
    "    if re.search(r\"^KEYWORDS\", linha):\n",
    "        s = re.match(r\"KEYWORDS\\s+(.+)\", linha)\n",
    "        if s:\n",
    "            # print( s.group(1) )\n",
    "            keywords = s.group(1)\n",
    "    if re.search(r\"//\", linha):\n",
    "        flag = False  \n",
    "    if flag:\n",
    "        # print(linha)\n",
    "        s = re.match(r\"\\s+\\d+ ([actg ]+)\", linha)\n",
    "        if s:\n",
    "            # print( s.group(1) )\n",
    "            sequence = sequence + s.group(1).replace(\" \", \"\")\n",
    "    if re.search(r\"ORIGIN\", linha):\n",
    "        flag = True\n",
    "fonte.close()\n",
    "print( locusid, source, keywords, sequence )"
   ]
  },
  {
   "cell_type": "code",
   "execution_count": null,
   "metadata": {},
   "outputs": [],
   "source": [
    "\n",
    "import re\n",
    "\n",
    "sequencia = \"\"\n",
    "\n",
    "# [ a ler sequencia, a ler referências, ...]\n",
    "estado = [ False, False ]\n",
    "\n",
    "fonte = open(\"../genbank/L42022.1.gb\",'r')\n",
    "for linha in fonte:\n",
    "    if estado[0]:\n",
    "\n",
    "        if re.match(\"//\", linha):\n",
    "            print(\"Off\")\n",
    "            estado[0] = False\n",
    "            continue \n",
    "        else:\n",
    "            m = re.match(\"\\s+\\d+([actg ]+)\", linha)\n",
    "            sequencia += m.group(1).replace(\" \", \"\")    \n",
    "    if estado[1]:\n",
    "        if re.search(\"FEATURES\", linha):\n",
    "            estado[1] = False\n",
    "        else:\n",
    "            references += linha\n",
    "    if not any(estado):\n",
    "        if re.search(\"VERSION\\s+[\\w.]+\", linha):\n",
    "            v = re.match(\"VERSION\\s+([\\w.]+)\", linha)\n",
    "            version = v.group(1)# print( m.group(1).replace(\" \", \"\") )\n",
    "        if re.match(\"ORIGIN\", linha):\n",
    "            print(\"ORIGIN On\")\n",
    "            estado[0] = True\n",
    "            continue\n",
    "        if re.match(\"REFERENCE\", linha):\n",
    "            print(\"Title On\")\n",
    "            estado[1] = True\n",
    "            # v = re.match(\"REFERENCE\\s+(.+)\", linha)\n",
    "            references = linha # v.group(1)            \n",
    "fonte.close()\n",
    "print( version, references, sequencia )"
   ]
  },
  {
   "cell_type": "code",
   "execution_count": null,
   "metadata": {},
   "outputs": [],
   "source": [
    "# pip3 install Bio\n",
    "from Bio.Seq import Seq\n",
    "\n",
    "my_seq = Seq(\"AGTACACTGGT\")\n",
    "print( my_seq )\n",
    "print( my_seq.complement() )\n",
    "print( my_seq.reverse_complement() )\n",
    "\n"
   ]
  },
  {
   "cell_type": "code",
   "execution_count": null,
   "metadata": {},
   "outputs": [],
   "source": [
    "from Bio import SeqIO\n",
    "for seq_record in SeqIO.parse(\"../genbank/L42022.1.gb\", \"genbank\"):\n",
    "    print(seq_record.id)\n",
    "    print(repr(seq_record.seq))\n",
    "    print(len(seq_record))\n"
   ]
  }
 ],
 "metadata": {
  "kernelspec": {
   "display_name": "Python 3.10.6 64-bit",
   "language": "python",
   "name": "python3"
  },
  "language_info": {
   "codemirror_mode": {
    "name": "ipython",
    "version": 3
   },
   "file_extension": ".py",
   "mimetype": "text/x-python",
   "name": "python",
   "nbconvert_exporter": "python",
   "pygments_lexer": "ipython3",
   "version": "3.10.6"
  },
  "vscode": {
   "interpreter": {
    "hash": "916dbcbb3f70747c44a77c7bcd40155683ae19c65e1c03b4aa3499c5328201f1"
   }
  }
 },
 "nbformat": 4,
 "nbformat_minor": 2
}
